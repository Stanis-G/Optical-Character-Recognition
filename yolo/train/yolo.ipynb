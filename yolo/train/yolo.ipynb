{
 "cells": [
  {
   "cell_type": "code",
   "execution_count": null,
   "metadata": {},
   "outputs": [],
   "source": [
    "from datetime import datetime\n",
    "import os\n",
    "import sys\n",
    "project_root = os.path.abspath(os.path.join(os.getcwd(), '../..'))\n",
    "sys.path.append(project_root)\n",
    "\n",
    "from ultralytics import YOLO, settings\n",
    "import mlflow\n",
    "\n",
    "from custom_dataset.data_preparation import YOLODataProcessor"
   ]
  },
  {
   "cell_type": "code",
   "execution_count": 2,
   "metadata": {},
   "outputs": [
    {
     "data": {
      "text/plain": [
       "<Experiment: artifact_location='mlflow-artifacts:/173000798021307826', creation_time=1745753018682, experiment_id='173000798021307826', last_update_time=1745753018682, lifecycle_stage='active', name='yolo_train', tags={}>"
      ]
     },
     "execution_count": 2,
     "metadata": {},
     "output_type": "execute_result"
    }
   ],
   "source": [
    "# Set mlflow experiment\n",
    "\n",
    "experiment_name = 'yolo_train'\n",
    "\n",
    "mlflow.set_tracking_uri(\"http://localhost:5000\")\n",
    "mlflow.set_experiment(experiment_name)"
   ]
  },
  {
   "cell_type": "code",
   "execution_count": 4,
   "metadata": {},
   "outputs": [
    {
     "data": {
      "text/plain": [
       "True"
      ]
     },
     "execution_count": 4,
     "metadata": {},
     "output_type": "execute_result"
    }
   ],
   "source": [
    "# Get all runs\n",
    "\n",
    "experiment = mlflow.get_experiment_by_name(experiment_name)\n",
    "df_runs = mlflow.search_runs(experiment_ids=[experiment.experiment_id])\n",
    "df_runs.empty"
   ]
  },
  {
   "cell_type": "markdown",
   "metadata": {},
   "source": [
    "# 1. Dataset prepatation"
   ]
  },
  {
   "cell_type": "code",
   "execution_count": 5,
   "metadata": {},
   "outputs": [],
   "source": [
    "dataset_name = 'yolo-ocr-dataset_yolo'\n",
    "dataset_path = os.path.join(project_root, 'custom_dataset', 'data', dataset_name)\n",
    "dataset_config = f'{dataset_name}.yaml'\n",
    "\n",
    "data_processor = YOLODataProcessor(dataset_path)\n",
    "data_processor(\n",
    "    config_path=dataset_config,\n",
    "    train_frac=0.95,\n",
    "    val_frac=0.025,\n",
    "    restructure=False,\n",
    ")"
   ]
  },
  {
   "cell_type": "markdown",
   "metadata": {},
   "source": [
    "# 2. Train"
   ]
  },
  {
   "cell_type": "code",
   "execution_count": 6,
   "metadata": {},
   "outputs": [
    {
     "name": "stdout",
     "output_type": "stream",
     "text": [
      "27.04.25_yolo-ocr-dataset_yolo_v1\n",
      "🏃 View run 27.04.25_yolo-ocr-dataset_yolo_v1 at: http://localhost:5000/#/experiments/173000798021307826/runs/f7996ca49b43452cb8f87e5318557645\n",
      "🧪 View experiment at: http://localhost:5000/#/experiments/173000798021307826\n",
      "f7996ca49b43452cb8f87e5318557645\n"
     ]
    }
   ],
   "source": [
    "# Give name to current run (model) and create it\n",
    "v = 1\n",
    "date = datetime.now().strftime(\"%d.%m.%y\")\n",
    "model_name = f'{date}_{dataset_name}_v{v}'\n",
    "if not df_runs.empty:\n",
    "    while (df_runs['params.run_name'] == model_name).any():\n",
    "        v += 1\n",
    "        model_name = f'{date}_{dataset_name}_v{v}'\n",
    "print(model_name)\n",
    "\n",
    "with mlflow.start_run(run_name=model_name) as run:\n",
    "    run_id = run.info.run_id\n",
    "os.environ['MLFLOW_RUN_ID'] = run_id\n",
    "print(run_id)"
   ]
  },
  {
   "cell_type": "code",
   "execution_count": 7,
   "metadata": {},
   "outputs": [
    {
     "name": "stdout",
     "output_type": "stream",
     "text": [
      "Stored 'run_id' (str)\n",
      "Stored 'model_name' (str)\n"
     ]
    }
   ],
   "source": [
    "# Store run_name and run_id for downstream use\n",
    "\n",
    "%store run_id\n",
    "%store model_name"
   ]
  },
  {
   "cell_type": "code",
   "execution_count": null,
   "metadata": {},
   "outputs": [
    {
     "name": "stdout",
     "output_type": "stream",
     "text": [
      "New https://pypi.org/project/ultralytics/8.3.118 available  Update with 'pip install -U ultralytics'\n",
      "Ultralytics 8.3.116  Python-3.12.0 torch-2.7.0+cu126 CUDA:0 (NVIDIA GeForce RTX 4060 Laptop GPU, 8188MiB)\n",
      "\u001b[34m\u001b[1mengine\\trainer: \u001b[0mtask=detect, mode=train, model=yolo11n.pt, data=yolo-ocr-dataset_yolo.yaml, epochs=3, time=None, patience=10, batch=2, imgsz=224, save=True, save_period=-1, cache=False, device=0, workers=8, project=checkpoints, name=27.04.25_yolo-ocr-dataset_yolo_v1, exist_ok=False, pretrained=True, optimizer=Adam, verbose=True, seed=0, deterministic=True, single_cls=True, rect=False, cos_lr=True, close_mosaic=10, resume=False, amp=True, fraction=1.0, profile=False, freeze=None, multi_scale=False, overlap_mask=True, mask_ratio=4, dropout=0.0, val=True, split=val, save_json=False, conf=None, iou=0.7, max_det=300, half=False, dnn=False, plots=True, source=None, vid_stride=1, stream_buffer=False, visualize=False, augment=False, agnostic_nms=False, classes=None, retina_masks=False, embed=None, show=False, save_frames=False, save_txt=False, save_conf=False, save_crop=False, show_labels=True, show_conf=True, show_boxes=True, line_width=None, format=torchscript, keras=False, optimize=False, int8=False, dynamic=False, simplify=True, opset=None, workspace=None, nms=False, lr0=0.001, lrf=1e-05, momentum=0.937, weight_decay=0.0001, warmup_epochs=1, warmup_momentum=0.8, warmup_bias_lr=0.1, box=7.5, cls=0, dfl=0, pose=0, kobj=0, nbs=64, hsv_h=0.015, hsv_s=0.7, hsv_v=0.4, degrees=0.0, translate=0.1, scale=0.5, shear=0.0, perspective=0.0, flipud=0.0, fliplr=0.5, bgr=0.0, mosaic=1.0, mixup=0.0, copy_paste=0.0, copy_paste_mode=flip, auto_augment=randaugment, erasing=0.4, cfg=None, tracker=botsort.yaml, save_dir=checkpoints\\27.04.25_yolo-ocr-dataset_yolo_v1\n",
      "Overriding class names with single class.\n",
      "Overriding model.yaml nc=80 with nc=1\n",
      "\n",
      "                   from  n    params  module                                       arguments                     \n",
      "  0                  -1  1       464  ultralytics.nn.modules.conv.Conv             [3, 16, 3, 2]                 \n",
      "  1                  -1  1      4672  ultralytics.nn.modules.conv.Conv             [16, 32, 3, 2]                \n",
      "  2                  -1  1      6640  ultralytics.nn.modules.block.C3k2            [32, 64, 1, False, 0.25]      \n",
      "  3                  -1  1     36992  ultralytics.nn.modules.conv.Conv             [64, 64, 3, 2]                \n",
      "  4                  -1  1     26080  ultralytics.nn.modules.block.C3k2            [64, 128, 1, False, 0.25]     \n",
      "  5                  -1  1    147712  ultralytics.nn.modules.conv.Conv             [128, 128, 3, 2]              \n",
      "  6                  -1  1     87040  ultralytics.nn.modules.block.C3k2            [128, 128, 1, True]           \n",
      "  7                  -1  1    295424  ultralytics.nn.modules.conv.Conv             [128, 256, 3, 2]              \n",
      "  8                  -1  1    346112  ultralytics.nn.modules.block.C3k2            [256, 256, 1, True]           \n",
      "  9                  -1  1    164608  ultralytics.nn.modules.block.SPPF            [256, 256, 5]                 \n",
      " 10                  -1  1    249728  ultralytics.nn.modules.block.C2PSA           [256, 256, 1]                 \n",
      " 11                  -1  1         0  torch.nn.modules.upsampling.Upsample         [None, 2, 'nearest']          \n",
      " 12             [-1, 6]  1         0  ultralytics.nn.modules.conv.Concat           [1]                           \n",
      " 13                  -1  1    111296  ultralytics.nn.modules.block.C3k2            [384, 128, 1, False]          \n",
      " 14                  -1  1         0  torch.nn.modules.upsampling.Upsample         [None, 2, 'nearest']          \n",
      " 15             [-1, 4]  1         0  ultralytics.nn.modules.conv.Concat           [1]                           \n",
      " 16                  -1  1     32096  ultralytics.nn.modules.block.C3k2            [256, 64, 1, False]           \n",
      " 17                  -1  1     36992  ultralytics.nn.modules.conv.Conv             [64, 64, 3, 2]                \n",
      " 18            [-1, 13]  1         0  ultralytics.nn.modules.conv.Concat           [1]                           \n",
      " 19                  -1  1     86720  ultralytics.nn.modules.block.C3k2            [192, 128, 1, False]          \n",
      " 20                  -1  1    147712  ultralytics.nn.modules.conv.Conv             [128, 128, 3, 2]              \n",
      " 21            [-1, 10]  1         0  ultralytics.nn.modules.conv.Concat           [1]                           \n",
      " 22                  -1  1    378880  ultralytics.nn.modules.block.C3k2            [384, 256, 1, True]           \n",
      " 23        [16, 19, 22]  1    430867  ultralytics.nn.modules.head.Detect           [1, [64, 128, 256]]           \n",
      "YOLO11n summary: 181 layers, 2,590,035 parameters, 2,590,019 gradients, 6.4 GFLOPs\n",
      "\n",
      "Transferred 448/499 items from pretrained weights\n",
      "Freezing layer 'model.23.dfl.conv.weight'\n",
      "\u001b[34m\u001b[1mAMP: \u001b[0mrunning Automatic Mixed Precision (AMP) checks...\n",
      "\u001b[34m\u001b[1mAMP: \u001b[0mchecks passed \n",
      "\u001b[34m\u001b[1mtrain: \u001b[0mFast image access  (ping: 0.20.0 ms, read: 266.2101.9 MB/s, size: 1410.3 KB)\n"
     ]
    },
    {
     "name": "stderr",
     "output_type": "stream",
     "text": [
      "\u001b[34m\u001b[1mtrain: \u001b[0mScanning C:\\Users\\Stas\\Desktop\\Practice\\OCR\\custom_dataset\\data\\yolo-ocr-dataset_yolo\\labels\\train.cache... 941 images, 0 backgrounds, 0 corrupt: 100%|██████████| 941/941 [00:00<?, ?it/s]\n"
     ]
    },
    {
     "name": "stdout",
     "output_type": "stream",
     "text": [
      "\u001b[34m\u001b[1mval: \u001b[0mFast image access  (ping: 0.60.3 ms, read: 327.975.9 MB/s, size: 1594.2 KB)\n"
     ]
    },
    {
     "name": "stderr",
     "output_type": "stream",
     "text": [
      "\u001b[34m\u001b[1mval: \u001b[0mScanning C:\\Users\\Stas\\Desktop\\Practice\\OCR\\custom_dataset\\data\\yolo-ocr-dataset_yolo\\labels\\val.cache... 25 images, 0 backgrounds, 0 corrupt: 100%|██████████| 25/25 [00:00<?, ?it/s]\n"
     ]
    }
   ],
   "source": [
    "model = YOLO(\"yolo11n.pt\")\n",
    "# print(settings)\n",
    "\n",
    "# All params here https://docs.ultralytics.com/modes/train/#train-settings\n",
    "model.train(\n",
    "    data=f'{dataset_name}.yaml',\n",
    "    epochs=3,\n",
    "    imgsz=224, # Resize all images to the value before training\n",
    "    patience=10, # early stopping\n",
    "    batch=2, # Fraction means fraction of device memory\n",
    "    optimizer='Adam',\n",
    "    single_cls=True, # True when need to find an object, not classsify it\n",
    "    cos_lr=True, # Cosine learning rate scheduler\n",
    "    lr0=1e-3, # Initial learning rate\n",
    "    lrf=1e-5, # Final learning rate to regulate slope of lr scheduler\n",
    "    weight_decay=1e-4, # L2 regularization\n",
    "    warmup_epochs=1, # Num of warmup epochs\n",
    "    box=7.5, # Weight of box loss in total loss function. Emphasises accurate box prediction\n",
    "    cls=0, # Weight of classification loss in total loss function. Ephasises correct class prediction\n",
    "    dfl=0,\n",
    "    pose=0,\n",
    "    kobj=0,\n",
    "    val=True, # Enable validation during training\n",
    "    plots=True, # Generate and save plots of train and val metrics\n",
    "    amp=True, # Enables Mixed Precision training\n",
    "    freeze=None, # Freezes specified num of first layers for transfer learning\n",
    "    device=0, # 0 is cuda\n",
    "    save=True, # Save checkpoints\n",
    "    project='checkpoints', # Name of a folder to save training outputs\n",
    "    name=model_name, # Training run name. Creates subdir in project dir\n",
    ")"
   ]
  },
  {
   "cell_type": "code",
   "execution_count": null,
   "metadata": {},
   "outputs": [],
   "source": [
    "metrics = model.val()"
   ]
  },
  {
   "cell_type": "code",
   "execution_count": null,
   "metadata": {},
   "outputs": [],
   "source": [
    "model.export(format=\"onnx\")"
   ]
  },
  {
   "cell_type": "code",
   "execution_count": null,
   "metadata": {},
   "outputs": [],
   "source": []
  },
  {
   "cell_type": "code",
   "execution_count": null,
   "metadata": {},
   "outputs": [],
   "source": []
  },
  {
   "cell_type": "code",
   "execution_count": null,
   "metadata": {},
   "outputs": [],
   "source": []
  }
 ],
 "metadata": {
  "kernelspec": {
   "display_name": "yolo_env",
   "language": "python",
   "name": "python3"
  },
  "language_info": {
   "codemirror_mode": {
    "name": "ipython",
    "version": 3
   },
   "file_extension": ".py",
   "mimetype": "text/x-python",
   "name": "python",
   "nbconvert_exporter": "python",
   "pygments_lexer": "ipython3",
   "version": "3.12.0"
  }
 },
 "nbformat": 4,
 "nbformat_minor": 2
}

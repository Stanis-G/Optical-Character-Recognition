{
 "cells": [
  {
   "cell_type": "code",
   "execution_count": null,
   "metadata": {},
   "outputs": [],
   "source": [
    "from datetime import datetime\n",
    "import os\n",
    "import sys\n",
    "project_root = os.path.abspath(os.path.join(os.getcwd(), '../..'))\n",
    "sys.path.append(project_root)\n",
    "\n",
    "from ultralytics import YOLO, settings\n",
    "import mlflow\n",
    "\n",
    "from custom_dataset.data_preparation import YOLODataProcessor"
   ]
  },
  {
   "cell_type": "code",
   "execution_count": null,
   "metadata": {},
   "outputs": [],
   "source": [
    "# Set mlflow experiment\n",
    "\n",
    "experiment_name = 'yolo_train'\n",
    "\n",
    "mlflow.set_tracking_uri(\"http://localhost:5000\")\n",
    "mlflow.set_experiment(experiment_name)"
   ]
  },
  {
   "cell_type": "code",
   "execution_count": null,
   "metadata": {},
   "outputs": [],
   "source": [
    "# Get all runs\n",
    "\n",
    "experiment = mlflow.get_experiment_by_name(experiment_name)\n",
    "df_runs = mlflow.search_runs(experiment_ids=[experiment.experiment_id])\n",
    "df_runs.empty"
   ]
  },
  {
   "cell_type": "markdown",
   "metadata": {},
   "source": [
    "# 1. Dataset prepatation"
   ]
  },
  {
   "cell_type": "code",
   "execution_count": null,
   "metadata": {},
   "outputs": [],
   "source": [
    "dataset_name = 'yolo-ocr-dataset_yolo'\n",
    "dataset_path = os.path.join(project_root, 'custom_dataset', 'data', dataset_name)\n",
    "dataset_config = f'{dataset_name}.yaml'\n",
    "\n",
    "data_processor = YOLODataProcessor(dataset_path)\n",
    "data_processor(\n",
    "    config_path=dataset_config,\n",
    "    train_frac=0.95,\n",
    "    val_frac=0.025,\n",
    "    restructure=False,\n",
    ")"
   ]
  },
  {
   "cell_type": "markdown",
   "metadata": {},
   "source": [
    "# 2. Train"
   ]
  },
  {
   "cell_type": "code",
   "execution_count": null,
   "metadata": {},
   "outputs": [],
   "source": [
    "# Give name to current run (model) and create it\n",
    "v = 1\n",
    "date = datetime.now().strftime(\"%d.%m.%y\")\n",
    "model_name = f'{date}_{dataset_name}_v{v}'\n",
    "if not df_runs.empty:\n",
    "    while (df_runs['tags.mlflow.runName'] == model_name).any():\n",
    "        v += 1\n",
    "        model_name = f'{date}_{dataset_name}_v{v}'\n",
    "print(model_name)\n",
    "\n",
    "with mlflow.start_run(run_name=model_name) as run:\n",
    "    run_id = run.info.run_id\n",
    "os.environ['MLFLOW_RUN_ID'] = run_id\n",
    "print(run_id)"
   ]
  },
  {
   "cell_type": "code",
   "execution_count": null,
   "metadata": {},
   "outputs": [],
   "source": [
    "# Store run_name and run_id for downstream use\n",
    "\n",
    "%store run_id\n",
    "%store model_name"
   ]
  },
  {
   "cell_type": "code",
   "execution_count": null,
   "metadata": {},
   "outputs": [],
   "source": [
    "model = YOLO(\"yolo11n.pt\")\n",
    "# print(settings)\n",
    "\n",
    "# All params here https://docs.ultralytics.com/modes/train/#train-settings\n",
    "model.train(\n",
    "    data=f'{dataset_name}.yaml',\n",
    "    epochs=3,\n",
    "    imgsz=224, # Resize all images to the value before training\n",
    "    patience=10, # early stopping\n",
    "    batch=2, # Fraction means fraction of device memory\n",
    "    optimizer='Adam',\n",
    "    single_cls=True, # True when need to find an object, not classsify it\n",
    "    cos_lr=True, # Cosine learning rate scheduler\n",
    "    lr0=1e-3, # Initial learning rate\n",
    "    lrf=1e-5, # Final learning rate to regulate slope of lr scheduler\n",
    "    weight_decay=1e-4, # L2 regularization\n",
    "    warmup_epochs=1, # Num of warmup epochs\n",
    "    box=7.5, # Weight of box loss in total loss function. Emphasises accurate box prediction\n",
    "    cls=0, # Weight of classification loss in total loss function. Ephasises correct class prediction\n",
    "    dfl=0,\n",
    "    pose=0,\n",
    "    kobj=0,\n",
    "    val=True, # Enable validation during training\n",
    "    plots=True, # Generate and save plots of train and val metrics\n",
    "    amp=True, # Enables Mixed Precision training\n",
    "    freeze=None, # Freezes specified num of first layers for transfer learning\n",
    "    device=0,\n",
    "    workers=4,\n",
    "    save=True, # Save checkpoints\n",
    "    project='checkpoints', # Name of a folder to save training outputs\n",
    "    name=model_name, # Training run name. Creates subdir in project dir\n",
    ")"
   ]
  },
  {
   "cell_type": "code",
   "execution_count": null,
   "metadata": {},
   "outputs": [],
   "source": [
    "metrics = model.val()"
   ]
  },
  {
   "cell_type": "code",
   "execution_count": null,
   "metadata": {},
   "outputs": [],
   "source": [
    "model.export(format=\"onnx\")"
   ]
  },
  {
   "cell_type": "code",
   "execution_count": null,
   "metadata": {},
   "outputs": [],
   "source": []
  },
  {
   "cell_type": "code",
   "execution_count": null,
   "metadata": {},
   "outputs": [],
   "source": []
  },
  {
   "cell_type": "code",
   "execution_count": null,
   "metadata": {},
   "outputs": [],
   "source": []
  }
 ],
 "metadata": {
  "kernelspec": {
   "display_name": "yolo_env",
   "language": "python",
   "name": "python3"
  },
  "language_info": {
   "codemirror_mode": {
    "name": "ipython",
    "version": 3
   },
   "file_extension": ".py",
   "mimetype": "text/x-python",
   "name": "python",
   "nbconvert_exporter": "python",
   "pygments_lexer": "ipython3",
   "version": "3.12.0"
  }
 },
 "nbformat": 4,
 "nbformat_minor": 2
}
